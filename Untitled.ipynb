{
 "cells": [
  {
   "cell_type": "markdown",
   "id": "e72a8f36",
   "metadata": {},
   "source": [
    "# Introduction\n",
    "Une centrale a´erodynamique est un calculateur qui a partir de param`etres\n",
    "comme les pressions statique et dynamique ou encore de la temp´erature fournit\n",
    "des donn´ees de vol."
   ]
  },
  {
   "cell_type": "markdown",
   "id": "a514ffc4",
   "metadata": {},
   "source": [
    "# Récupération des données\n",
    "les capteurs n’étant pas disponibles, il s’agira dans cette partie de les récuperer\n",
    "manuelement. On s’assurera en outre que les valeurs entrées soit en ad´equation\n",
    "avec la réalité."
   ]
  },
  {
   "cell_type": "code",
   "execution_count": null,
   "id": "98923fdf",
   "metadata": {},
   "outputs": [],
   "source": [
    "# recueuil des valeurs de la pression statique\n",
    "print(\"entrer la valeur de la pression statique en hpa\")\n",
    "static_pressure = input()\n",
    "static_pressure = float(static_pressure)\n",
    "\n",
    "# empecher de prendre une valeur de pression statique erronée\n",
    "while static_pressure > 1013.25 :\n",
    "    print(\"la valeur de la pression sous ces conditions doit etre inférieur à 1013.25 Hpa. Rentrer une nouvelle valeur:\")\n",
    "    static_pressure = input()\n",
    "    static_pressure = float(static_pressure)\n",
    "\n",
    "\n",
    "# recueuil des valeurs de la pression totale\n",
    "print(\"entrer la valeur de la pression totale en hpa\")\n",
    "total_pressure = input()\n",
    "total_pressure = float(total_pressure)\n",
    "\n",
    "\n",
    "# empecher de prendre une valeur de pression statique erronée\n",
    "while total_pressure < static_pressure :\n",
    "    print(\"La valeur de la pression totale doit etre supérieur à celle de la presion statique  . Taper une nouvelle valeur : :\")\n",
    "    total_pressure = input()\n",
    "    total_pressure = float(total_pressure)\n",
    "p_alt = math.sqrt(static_pressure/1013.25)"
   ]
  },
  {
   "cell_type": "markdown",
   "id": "a69524f6",
   "metadata": {},
   "source": [
    "# Calcul de l’altitude\n",
    "Il s’agira dans cette partie d’utiliser la relation liant l’altitude à la pression dans\n",
    "les conditions de l’atmosphère standard.\n"
   ]
  }
 ],
 "metadata": {
  "kernelspec": {
   "display_name": "Python 3 (ipykernel)",
   "language": "python",
   "name": "python3"
  },
  "language_info": {
   "codemirror_mode": {
    "name": "ipython",
    "version": 3
   },
   "file_extension": ".py",
   "mimetype": "text/x-python",
   "name": "python",
   "nbconvert_exporter": "python",
   "pygments_lexer": "ipython3",
   "version": "3.11.5"
  }
 },
 "nbformat": 4,
 "nbformat_minor": 5
}
